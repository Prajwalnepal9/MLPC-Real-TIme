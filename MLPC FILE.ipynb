import pandas as pd
df = pd.read_csv('StormEvents_details-ftp_v1.0_d1950_c20250520.csv')
print(df.shape)
df.head()
columns_to_drop = ['WFO', 'EPISODE_ID', 'SOURCE', 'CATEGORY', 'FLOOD_CAUSE', 'EPISODE_NARRATIVE', 'EVENT_NARRATIVE']
df.drop(columns=columns_to_drop, inplace=True)
print(df.shape)
df.head()
df['IS_TORNADO'] = df['EVENT_TYPE'].apply(lambda x: 1 if 'Tornado' in x else 0)
df.head()
features = ['BEGIN_LAT', 'BEGIN_LON', 'TOR_WIDTH', 'INJURIES_DIRECT', 'DEATHS_DIRECT', 'DAMAGE_PROPERTY']
target = ['IS_TORNADO']
import seaborn as sns
import matplotlib.pyplot as plt
sns.countplot(df['EVENT_TYPE'])
plt.title('Event Type Distribution')
plt.xticks(rotation=90)
plt.show()
from sklearn.model_selection import train_test_split
from sklearn.ensemble import RandomForestClassifier
from sklearn.metrics import accuracy_score, classification_report, confusion_matrix

columns_to_add = ['TOR LENGTH']

X = df[features]
y = df[target]
X_train, X_test, y_train, y_test = train_test_split(X, y, stratify=y, test_size=0.2, random_state=42)
rf = RandomForestClassifier(n_estimators=100, random_state=42)
rf.fit(X_train, y_train)
y_pred = rf.predict(X_test)
print(classification_report(y_test, y_pred))
from sklearn.preprocessing import MinMaxScaler
from imblearn.over_sampling import SMOTE
scaler = MinMaxScaler()
X_train_scaled = scaler.fit_transform(X_train)
X_test_scaled = scaler.transform(X_test)
#
from sklearn.model_selection import train_test_split
from sklearn.ensemble import RandomForestClassifier
from sklearn.metrics import classification_report
import numpy as np

def convert_damage_to_numeric(damage):
    """Converts damage values with K, M, B suffixes to numeric."""
    if isinstance(damage, str):
        damage = damage.strip()
        if damage.upper().endswith('K'):
            return float(damage[:-1]) * 1000
        elif damage.upper().endswith('M'):
            return float(damage[:-1]) * 1000000
        elif damage.upper().endswith('B'):
            return float(damage[:-1]) * 1000000000
        else:
            try:
                return float(damage)
            except ValueError:
                return np.nan  # Handle cases that don't fit expected formats
    return damage # Return as is if not a string

# Apply the conversion to the 'DAMAGE_PROPERTY' column
df['DAMAGE_PROPERTY'] = df['DAMAGE_PROPERTY'].apply(convert_damage_to_numeric)

# Split dataset
X = df[features]
y = df[target]
X_train, X_test, y_train, y_test = train_test_split(X, y, stratify=y, test_size=0.2, random_state=42)

# Random Forest Model
rf = RandomForestClassifier(n_estimators=100, n_jobs=-1, random_state=42)
rf.fit(X_train, y_train)

# Predictions
y_pred = rf.predict(X_test)
print(classification_report(y_test, y_pred))
display(y.value_counts())
display(df[['DAMAGE_PROPERTY', 'INJURIES_DIRECT', 'DEATHS_DIRECT']].describe())
rf_no_resample = RandomForestClassifier(n_estimators=100, n_jobs=-1, random_state=42)
rf_no_resample.fit(X_train, y_train)
rf_parallel = RandomForestClassifier(n_estimators=100, n_jobs=-1)
%time rf_parallel.fit(X_train, y_train)


import matplotlib.pyplot as plt
import seaborn as sns

fig, axes = plt.subplots(1, 3, figsize=(18, 5))

sns.histplot(data=df, x='DAMAGE_PROPERTY', ax=axes[0], kde=True)
axes[0].set_title('Distribution of Property Damage')
axes[0].tick_params(axis='x', rotation=45)

sns.histplot(data=df, x='INJURIES_DIRECT', ax=axes[1], kde=True)
axes[1].set_title('Distribution of Direct Injuries')

sns.histplot(data=df, x='DEATHS_DIRECT', ax=axes[2], kde=True)
axes[2].set_title('Distribution of Direct Deaths')

plt.tight_layout()
plt.show()
import matplotlib.pyplot as plt

plt.figure(figsize=(10, 6))
plt.scatter(df['BEGIN_LON'], df['BEGIN_LAT'], alpha=0.5)
plt.title('Geographical Distribution of Tornado Events')
plt.xlabel('Longitude')
plt.ylabel('Latitude')
plt.grid(True)
plt.show()
As previously explained, the error you are encountering when trying to calculate the ROC AUC score is directly related to your target variable (`y`, the `IS_TORNADO` column) containing only a single class (the value `1`).

Metrics like ROC AUC and techniques like SMOTE are designed for classification problems with **two or more** classes. When a model is trained on data with only one class, its `predict_proba()` method (used for calculating ROC AUC) will only output probabilities for that single class. Trying to access the probabilities for a non-existent second class results in the `IndexError`.

To be able to calculate ROC AUC and use techniques like SMOTE, you need a dataset where the target variable has at least two distinct classes (tornado and non-tornado).

With your current dataset, which exclusively contains tornado events, these specific analyses are not applicable. We can, however, perform other valuable analyses on the characteristics of the tornado events in your data.
